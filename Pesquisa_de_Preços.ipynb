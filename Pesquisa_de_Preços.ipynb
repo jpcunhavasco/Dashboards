{
  "nbformat": 4,
  "nbformat_minor": 0,
  "metadata": {
    "kernelspec": {
      "display_name": "Python 3",
      "language": "python",
      "name": "python3"
    },
    "language_info": {
      "codemirror_mode": {
        "name": "ipython",
        "version": 3
      },
      "file_extension": ".py",
      "mimetype": "text/x-python",
      "name": "python",
      "nbconvert_exporter": "python",
      "pygments_lexer": "ipython3",
      "version": "3.8.3"
    },
    "colab": {
      "name": " Automação Web - Pesquisa de Preços.ipynb",
      "provenance": [],
      "include_colab_link": true
    }
  },
  "cells": [
    {
      "cell_type": "markdown",
      "metadata": {
        "id": "view-in-github",
        "colab_type": "text"
      },
      "source": [
        "<a href=\"https://colab.research.google.com/github/jpcunhavasco/data_projects/blob/main/Pesquisa_de_Pre%C3%A7os.ipynb\" target=\"_parent\"><img src=\"https://colab.research.google.com/assets/colab-badge.svg\" alt=\"Open In Colab\"/></a>"
      ]
    },
    {
      "cell_type": "markdown",
      "metadata": {
        "id": "zwpzSM7G0Omb"
      },
      "source": [
        "# Solução - Projeto Automação Web - Busca de Preços"
      ]
    },
    {
      "cell_type": "code",
      "metadata": {
        "id": "G5V2TQ170Ome",
        "outputId": "9ba281c4-d477-46b1-97c0-385f9ae909f3"
      },
      "source": [
        "import pandas as pd\n",
        "from selenium import webdriver\n",
        "\n",
        "produtos = pd.read_excel(r'Produtos.xlsx')\n",
        "produtos = produtos.fillna('-')\n",
        "display(produtos)\n",
        "\n"
      ],
      "execution_count": null,
      "outputs": [
        {
          "output_type": "display_data",
          "data": {
            "text/html": [
              "<div>\n",
              "<style scoped>\n",
              "    .dataframe tbody tr th:only-of-type {\n",
              "        vertical-align: middle;\n",
              "    }\n",
              "\n",
              "    .dataframe tbody tr th {\n",
              "        vertical-align: top;\n",
              "    }\n",
              "\n",
              "    .dataframe thead th {\n",
              "        text-align: right;\n",
              "    }\n",
              "</style>\n",
              "<table border=\"1\" class=\"dataframe\">\n",
              "  <thead>\n",
              "    <tr style=\"text-align: right;\">\n",
              "      <th></th>\n",
              "      <th>Link Produto</th>\n",
              "      <th>Amazon</th>\n",
              "      <th>Lojas Americanas</th>\n",
              "      <th>Magazine Luiza</th>\n",
              "      <th>Preço Original</th>\n",
              "      <th>Preço Atual</th>\n",
              "      <th>Local</th>\n",
              "    </tr>\n",
              "  </thead>\n",
              "  <tbody>\n",
              "    <tr>\n",
              "      <th>0</th>\n",
              "      <td>iPhone 11 Apple 64GB Preto</td>\n",
              "      <td>https://www.amazon.com.br/IPHONE-11-PRETO-TELA...</td>\n",
              "      <td>https://www.americanas.com.br/produto/16113159...</td>\n",
              "      <td>https://www.magazineluiza.com.br/iphone-11-app...</td>\n",
              "      <td>5297</td>\n",
              "      <td>4499.0</td>\n",
              "      <td>Magazine Luiza</td>\n",
              "    </tr>\n",
              "    <tr>\n",
              "      <th>1</th>\n",
              "      <td>Smart TV LED 50'' LG Ultra HD 4K Thinq AI</td>\n",
              "      <td>https://www.amazon.com.br/Smart-LG-Intelig%C3%...</td>\n",
              "      <td>https://www.americanas.com.br/produto/49516150...</td>\n",
              "      <td>https://www.magazineluiza.com.br/smart-tv-uhd-...</td>\n",
              "      <td>2900</td>\n",
              "      <td>2459.9</td>\n",
              "      <td>Amazon</td>\n",
              "    </tr>\n",
              "  </tbody>\n",
              "</table>\n",
              "</div>"
            ],
            "text/plain": [
              "                                Link Produto  \\\n",
              "0                 iPhone 11 Apple 64GB Preto   \n",
              "1  Smart TV LED 50'' LG Ultra HD 4K Thinq AI   \n",
              "\n",
              "                                              Amazon  \\\n",
              "0  https://www.amazon.com.br/IPHONE-11-PRETO-TELA...   \n",
              "1  https://www.amazon.com.br/Smart-LG-Intelig%C3%...   \n",
              "\n",
              "                                    Lojas Americanas  \\\n",
              "0  https://www.americanas.com.br/produto/16113159...   \n",
              "1  https://www.americanas.com.br/produto/49516150...   \n",
              "\n",
              "                                      Magazine Luiza  Preço Original  \\\n",
              "0  https://www.magazineluiza.com.br/iphone-11-app...            5297   \n",
              "1  https://www.magazineluiza.com.br/smart-tv-uhd-...            2900   \n",
              "\n",
              "   Preço Atual           Local  \n",
              "0       4499.0  Magazine Luiza  \n",
              "1       2459.9          Amazon  "
            ]
          },
          "metadata": {
            "tags": []
          }
        }
      ]
    },
    {
      "cell_type": "code",
      "metadata": {
        "id": "c_rPkhP-0Omg"
      },
      "source": [
        "def transformar_texto(texto):\n",
        "    return float(texto.replace('R$', '').replace('.', '').replace(',', '.'))"
      ],
      "execution_count": null,
      "outputs": []
    },
    {
      "cell_type": "code",
      "metadata": {
        "id": "KO3FiIDm0Omi",
        "outputId": "8187c274-9839-4144-f624-c7c6aeb93e18"
      },
      "source": [
        "driver = webdriver.Chrome()\n",
        "driver.set_window_position(-10000,0)\n",
        "\n",
        "enviar_email = False\n",
        "desconto_min = 0.2\n",
        "\n",
        "for i, linha in produtos.iterrows():\n",
        "    #pegar preço amazon\n",
        "    driver.get(linha['Amazon'])\n",
        "    try:\n",
        "        preco_amazon = driver.find_element_by_id('priceblock_ourprice').text\n",
        "        preco_amazon = transformar_texto(preco_amazon)\n",
        "    except:\n",
        "        try:\n",
        "            preco_amazon = driver.find_element_by_css_selector('#olp-upd-new span.a-size-base').text\n",
        "            preco_amazon = transformar_texto(preco_amazon)\n",
        "        except:\n",
        "            print('Produto {} não disponível na Amazon'.format(linha['Link Produto']))\n",
        "            preco_amazon = linha['Preço Original'] * 3\n",
        "    \n",
        "\n",
        "    #pegar o preço da lame\n",
        "    driver.get(linha['Lojas Americanas'])\n",
        "    try:\n",
        "        preco_lame = driver.find_element_by_class_name('src__BestPrice-lo2vta-5').text\n",
        "        preco_lame = transformar_texto(preco_lame)\n",
        "    except:\n",
        "        print('Produto {} não disponível na Lojas Americanas'.format(linha['Link Produto']))\n",
        "        preco_lame = linha['Preço Original'] * 3\n",
        "        \n",
        "    #pegar o preço da mglu\n",
        "    driver.get(linha['Magazine Luiza'])\n",
        "    try:\n",
        "        preco_mglu = driver.find_element_by_class_name('price-template__text').text\n",
        "        preco_mglu = transformar_texto(preco_mglu)\n",
        "    except:\n",
        "        print('Produto {} não disponível na Magazine Luiza'.format(linha['Link Produto']))\n",
        "        preco_mglu = linha['Preço Original'] * 3\n",
        "\n",
        "    preco_original = linha['Preço Original']\n",
        "    \n",
        "    lista_precos = [(preco_amazon, 'Amazon'), (preco_lame, 'Lojas Americanas'), (preco_mglu, 'Magazine Luiza'), (preco_original, 'Original')]\n",
        "    \n",
        "    lista_precos.sort()\n",
        "    \n",
        "    produtos.loc[i, 'Preço Atual'] = lista_precos[0][0]\n",
        "    produtos.loc[i, 'Local'] = lista_precos[0][1]\n",
        "    \n",
        "    if lista_precos[0][0] <= preco_original*(1-desconto_min):\n",
        "        enviar_email = True\n",
        "    "
      ],
      "execution_count": null,
      "outputs": [
        {
          "output_type": "stream",
          "text": [
            "Produto iPhone 11 Apple 64GB Preto não disponível na Magazine Luiza\n"
          ],
          "name": "stdout"
        }
      ]
    },
    {
      "cell_type": "code",
      "metadata": {
        "id": "pSWxDsxn0Omj",
        "outputId": "1510a171-ef6c-48ab-8ba9-a6801fbef4ab"
      },
      "source": [
        "display(produtos)"
      ],
      "execution_count": null,
      "outputs": [
        {
          "output_type": "display_data",
          "data": {
            "text/html": [
              "<div>\n",
              "<style scoped>\n",
              "    .dataframe tbody tr th:only-of-type {\n",
              "        vertical-align: middle;\n",
              "    }\n",
              "\n",
              "    .dataframe tbody tr th {\n",
              "        vertical-align: top;\n",
              "    }\n",
              "\n",
              "    .dataframe thead th {\n",
              "        text-align: right;\n",
              "    }\n",
              "</style>\n",
              "<table border=\"1\" class=\"dataframe\">\n",
              "  <thead>\n",
              "    <tr style=\"text-align: right;\">\n",
              "      <th></th>\n",
              "      <th>Link Produto</th>\n",
              "      <th>Amazon</th>\n",
              "      <th>Lojas Americanas</th>\n",
              "      <th>Magazine Luiza</th>\n",
              "      <th>Preço Original</th>\n",
              "      <th>Preço Atual</th>\n",
              "      <th>Local</th>\n",
              "    </tr>\n",
              "  </thead>\n",
              "  <tbody>\n",
              "    <tr>\n",
              "      <th>0</th>\n",
              "      <td>iPhone 11 Apple 64GB Preto</td>\n",
              "      <td>https://www.amazon.com.br/IPHONE-11-PRETO-TELA...</td>\n",
              "      <td>https://www.americanas.com.br/produto/16113159...</td>\n",
              "      <td>https://www.magazineluiza.com.br/iphone-11-app...</td>\n",
              "      <td>5297</td>\n",
              "      <td>4783.87</td>\n",
              "      <td>Lojas Americanas</td>\n",
              "    </tr>\n",
              "    <tr>\n",
              "      <th>1</th>\n",
              "      <td>Smart TV LED 50'' LG Ultra HD 4K Thinq AI</td>\n",
              "      <td>https://www.amazon.com.br/Smart-LG-Intelig%C3%...</td>\n",
              "      <td>https://www.americanas.com.br/produto/49516150...</td>\n",
              "      <td>https://www.magazineluiza.com.br/smart-tv-uhd-...</td>\n",
              "      <td>2900</td>\n",
              "      <td>2459.90</td>\n",
              "      <td>Amazon</td>\n",
              "    </tr>\n",
              "  </tbody>\n",
              "</table>\n",
              "</div>"
            ],
            "text/plain": [
              "                                Link Produto  \\\n",
              "0                 iPhone 11 Apple 64GB Preto   \n",
              "1  Smart TV LED 50'' LG Ultra HD 4K Thinq AI   \n",
              "\n",
              "                                              Amazon  \\\n",
              "0  https://www.amazon.com.br/IPHONE-11-PRETO-TELA...   \n",
              "1  https://www.amazon.com.br/Smart-LG-Intelig%C3%...   \n",
              "\n",
              "                                    Lojas Americanas  \\\n",
              "0  https://www.americanas.com.br/produto/16113159...   \n",
              "1  https://www.americanas.com.br/produto/49516150...   \n",
              "\n",
              "                                      Magazine Luiza  Preço Original  \\\n",
              "0  https://www.magazineluiza.com.br/iphone-11-app...            5297   \n",
              "1  https://www.magazineluiza.com.br/smart-tv-uhd-...            2900   \n",
              "\n",
              "   Preço Atual             Local  \n",
              "0      4783.87  Lojas Americanas  \n",
              "1      2459.90            Amazon  "
            ]
          },
          "metadata": {
            "tags": []
          }
        }
      ]
    },
    {
      "cell_type": "code",
      "metadata": {
        "id": "w2JCWWrg0Omk",
        "outputId": "0dd93351-938f-4969-d111-8b758deacd57"
      },
      "source": [
        "import win32com.client as win32\n",
        "outlook = win32.Dispatch('outlook.application')\n",
        "\n",
        "#salvar o arquivo\n",
        "produtos.to_excel('Produtos.xlsx')\n",
        "#enviar email\n",
        "\n",
        "if enviar_email:\n",
        "    #enviar email\n",
        "    mail = outlook.CreateItem(0)\n",
        "    mail.To = 'pythonimpressionador+compras@gmail.com'\n",
        "    mail.Subject = f'Produto(s) Encontrado(s) com mais de {desconto_min:.0%} de Desconto'\n",
        "    \n",
        "    #filtrar a tabela de produtos\n",
        "    tabela_filtrada = produtos.loc[produtos['Preço Atual'] <= produtos['Preço Original']*(1-desconto_min), :]\n",
        "    \n",
        "    mail.HTMLBody = f'<p>Esses sãos os produtos com mais de {desconto_min:.0%} de desconto</p>{tabela_filtrada.to_html()}'\n",
        "\n",
        "    mail.Send()\n",
        "    \n",
        "#finalizando o código\n",
        "print('Fim Análise')\n",
        "driver.quit()"
      ],
      "execution_count": null,
      "outputs": [
        {
          "output_type": "stream",
          "text": [
            "Fim Análise\n"
          ],
          "name": "stdout"
        }
      ]
    }
  ]
}